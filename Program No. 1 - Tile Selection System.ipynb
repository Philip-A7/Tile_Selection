{
 "cells": [
  {
   "cell_type": "markdown",
   "metadata": {
    "ExecuteTime": {
     "end_time": "2020-05-04T20:19:40.008805Z",
     "start_time": "2020-05-04T20:19:39.957939Z"
    }
   },
   "source": [
    "## AUTORUN "
   ]
  },
  {
   "cell_type": "code",
   "execution_count": 8,
   "metadata": {
    "ExecuteTime": {
     "end_time": "2020-05-04T21:37:19.355490Z",
     "start_time": "2020-05-04T21:37:19.318835Z"
    }
   },
   "outputs": [
    {
     "data": {
      "text/html": [
       "<script>\n",
       "    // AUTORUN ALL CELLS ON NOTEBOOK-LOAD!\n",
       "    require(\n",
       "        ['base/js/namespace', 'jquery'], \n",
       "        function(jupyter, $) {\n",
       "            $(jupyter.events).on(\"kernel_ready.Kernel\", function () {\n",
       "                console.log(\"Auto-running all cells-below...\");\n",
       "                jupyter.actions.call('jupyter-notebook:run-all-cells-below');\n",
       "                jupyter.actions.call('jupyter-notebook:save-notebook');\n",
       "            });\n",
       "        }\n",
       "    );\n",
       "</script>\n"
      ],
      "text/plain": [
       "<IPython.core.display.HTML object>"
      ]
     },
     "metadata": {},
     "output_type": "display_data"
    }
   ],
   "source": [
    "%%html\n",
    "<script>\n",
    "    // AUTORUN ALL CELLS ON NOTEBOOK-LOAD!\n",
    "    require(\n",
    "        ['base/js/namespace', 'jquery'], \n",
    "        function(jupyter, $) {\n",
    "            $(jupyter.events).on(\"kernel_ready.Kernel\", function () {\n",
    "                console.log(\"Auto-running all cells-below...\");\n",
    "                jupyter.actions.call('jupyter-notebook:run-all-cells-below');\n",
    "                jupyter.actions.call('jupyter-notebook:save-notebook');\n",
    "            });\n",
    "        }\n",
    "    );\n",
    "</script>"
   ]
  },
  {
   "cell_type": "markdown",
   "metadata": {},
   "source": [
    "## PACKAGES"
   ]
  },
  {
   "cell_type": "code",
   "execution_count": 9,
   "metadata": {
    "ExecuteTime": {
     "end_time": "2020-05-04T21:37:19.363016Z",
     "start_time": "2020-05-04T21:37:19.358833Z"
    }
   },
   "outputs": [],
   "source": [
    "import pandas as pd\n",
    "import math as mth"
   ]
  },
  {
   "cell_type": "markdown",
   "metadata": {},
   "source": [
    "## TILE DATAFRAME"
   ]
  },
  {
   "cell_type": "code",
   "execution_count": 10,
   "metadata": {
    "ExecuteTime": {
     "end_time": "2020-05-04T21:37:19.398772Z",
     "start_time": "2020-05-04T21:37:19.370491Z"
    }
   },
   "outputs": [],
   "source": [
    "# Tile_IDs: Tile ID\n",
    "# Tile_Descs: Tile description\n",
    "# PPB: Price per box\n",
    "\n",
    "Tile_IDs= ['sbg','smg','spb','msy','mbr','mgp','loae','lbg','lbe','xlwm']\n",
    "Tile_Descs= ['Small black granite',\n",
    "             'Small grey marble',\n",
    "             'Small powder blue',\n",
    "             'Medium sunset yellow',\n",
    "             'Medium berry red',\n",
    "             'Medium glitter purple',\n",
    "             'Large oak wood effect',\n",
    "             'Large black granite',\n",
    "             'Large bamboo effect',\n",
    "             'Extra-large white marble']\n",
    "PPB = [19.5, 25.95, 35.75, 12.5, 11.00, 52.95, 65.0, 58.98, 85.0, 62.75]\n",
    "\n",
    "\n",
    "# Create a dataframe from lists above\n",
    "Tile_DB = pd.DataFrame({'Tile ID':Tile_IDs,\n",
    "                        'Tile description':Tile_Descs,\n",
    "                        'Price per box (£)':PPB\n",
    "                       })"
   ]
  },
  {
   "cell_type": "markdown",
   "metadata": {},
   "source": [
    " "
   ]
  },
  {
   "cell_type": "markdown",
   "metadata": {},
   "source": [
    "## FUNCTIONS ##"
   ]
  },
  {
   "cell_type": "code",
   "execution_count": 11,
   "metadata": {
    "ExecuteTime": {
     "end_time": "2020-05-04T21:37:19.425572Z",
     "start_time": "2020-05-04T21:37:19.404273Z"
    }
   },
   "outputs": [],
   "source": [
    "def numerical_check(value):\n",
    "    \"\"\"\"\"\"\"\"\" \n",
    "    Checks whether value is numerical (either float or integer). \n",
    "    Returns (True, value) if input satisfies test, and (False, value) if it does not.\n",
    "    \n",
    "    \"\"\"\n",
    "    while True:\n",
    "        try:\n",
    "            value = float(value)\n",
    "            return True, value\n",
    "            break;\n",
    "        except ValueError:\n",
    "            return False, value\n",
    "        \n",
    "def all_inputs(value_check):\n",
    "    \"\"\"\"\"\"\"\"\" \n",
    "    Standardizes the use of the numerical_check() function, enabling the user to re-enter a value of an acceptable type\n",
    "    \n",
    "    - Takes in output of the numerical_check() function, in the form (state, value) where:\n",
    "        * state: True or False\n",
    "        * value: The value inputed by the user for dimensions\n",
    "    - If a non numerical input is given, it continues to loop, by requesting new input and checking again using the numerical check.  \n",
    "    - When an acceptable numerical input is given, it returns only the value.\n",
    "    \n",
    "    \"\"\"\n",
    "    \n",
    "    while value_check[0] == False:\n",
    "        hh = input('Dimension cannot be non-numerical. Please try again: ')\n",
    "        value_check = numerical_check(hh)\n",
    "    else:\n",
    "        value = value_check[1]\n",
    "        return value\n",
    "\n",
    "def display_list():\n",
    "    return Tile_DB\n",
    "                      \n",
    "def calculate_waste(h,w, price):  \n",
    "    \"\"\"\"\"\"\"\"\" \n",
    "    Calculates new total area and required tile quantity, based on waste percentage specified by user.\n",
    "    \n",
    "    \"\"\"\n",
    "    \n",
    "    waste = float(input('Please enter waste percentage ')) \n",
    "    results = calculations(h, w, price, waste=waste)\n",
    "    print_calculations(results[0], results[1], results[2])   \n",
    "\n",
    "def calculations(h, w, price, waste=0):\n",
    "    \"\"\"\"\"\"\"\"\" \n",
    "    Computes total wall area, required tile quantity and total cost, returning results in a tuple.\n",
    "    \n",
    "    \"\"\"\n",
    "    \n",
    "    display_area = h * w * (1 + waste/100)\n",
    "    number_of_boxes = display_area/1\n",
    "    total_cost = number_of_boxes * price\n",
    "    return (display_area, number_of_boxes, total_cost)                    \n",
    "                        \n",
    "def print_calculations(display_area, number_of_boxes, total_cost): \n",
    "    \"\"\"\"\"\"\"\"\" \n",
    "    Rounds total area and total cost to 2 decimal places, and the required boxes to the nearest whole number.\n",
    "    \n",
    "    \"\"\"\n",
    "        \n",
    "    print(f'Your total area is {round(display_area, ndigits=3)} sq metres, requiring {mth.ceil(number_of_boxes)} boxes, at a total cost of £{round(total_cost, ndigits=2)}')\n",
    "    "
   ]
  },
  {
   "cell_type": "markdown",
   "metadata": {},
   "source": [
    "## MAIN"
   ]
  },
  {
   "cell_type": "code",
   "execution_count": 12,
   "metadata": {
    "ExecuteTime": {
     "end_time": "2020-05-04T21:37:19.444650Z",
     "start_time": "2020-05-04T21:37:19.429567Z"
    }
   },
   "outputs": [],
   "source": [
    "def user_input():\n",
    "    height_input = input('Please enter your wall height in metres: ')\n",
    "    height_check = numerical_check(height_input)\n",
    "    height = all_inputs(height_check)\n",
    "\n",
    "    \n",
    "    width_input = (input('Please enter your wall width in metres: '))\n",
    "    width_check = numerical_check(width_input)\n",
    "    width = all_inputs(width_check)\n",
    "    \n",
    "    id_code = str(input('Please enter your desired tile ID: '))\n",
    "    while id_code not in list(Tile_DB[\"Tile ID\"]):\n",
    "        id_code = str(input('Tile ID not found. Please enter a valid tile ID: '))\n",
    "        \n",
    "    else:\n",
    "        initial_result = calculations(height, width, float(Tile_DB.loc[Tile_DB['Tile ID']==id_code, 'Price per box (£)'].iloc[0]))\n",
    "        print_calculations(initial_result[0], initial_result[1], initial_result[2])\n",
    "\n",
    "    \n",
    "    y_or_no = str(input(\"Would you like to calculate waste? (y or n) \")).lower()\n",
    "    if y_or_no == str('n'):\n",
    "        print('Thank you, your order has been processed')\n",
    "    else:\n",
    "        calculate_waste(height, width, float(Tile_DB.loc[Tile_DB['Tile ID']==id_code, 'Price per box (£)'].iloc[0]))"
   ]
  },
  {
   "cell_type": "markdown",
   "metadata": {},
   "source": [
    " "
   ]
  },
  {
   "cell_type": "markdown",
   "metadata": {},
   "source": [
    "## Display Tile List\n",
    "Uncomment the code cell below and run to view the tile list"
   ]
  },
  {
   "cell_type": "code",
   "execution_count": 13,
   "metadata": {
    "ExecuteTime": {
     "end_time": "2020-05-04T21:37:19.512503Z",
     "start_time": "2020-05-04T21:37:19.448322Z"
    }
   },
   "outputs": [
    {
     "data": {
      "text/html": [
       "<div>\n",
       "<style scoped>\n",
       "    .dataframe tbody tr th:only-of-type {\n",
       "        vertical-align: middle;\n",
       "    }\n",
       "\n",
       "    .dataframe tbody tr th {\n",
       "        vertical-align: top;\n",
       "    }\n",
       "\n",
       "    .dataframe thead th {\n",
       "        text-align: right;\n",
       "    }\n",
       "</style>\n",
       "<table border=\"1\" class=\"dataframe\">\n",
       "  <thead>\n",
       "    <tr style=\"text-align: right;\">\n",
       "      <th></th>\n",
       "      <th>Tile ID</th>\n",
       "      <th>Tile description</th>\n",
       "      <th>Price per box (£)</th>\n",
       "    </tr>\n",
       "  </thead>\n",
       "  <tbody>\n",
       "    <tr>\n",
       "      <th>0</th>\n",
       "      <td>sbg</td>\n",
       "      <td>Small black granite</td>\n",
       "      <td>19.50</td>\n",
       "    </tr>\n",
       "    <tr>\n",
       "      <th>1</th>\n",
       "      <td>smg</td>\n",
       "      <td>Small grey marble</td>\n",
       "      <td>25.95</td>\n",
       "    </tr>\n",
       "    <tr>\n",
       "      <th>2</th>\n",
       "      <td>spb</td>\n",
       "      <td>Small powder blue</td>\n",
       "      <td>35.75</td>\n",
       "    </tr>\n",
       "    <tr>\n",
       "      <th>3</th>\n",
       "      <td>msy</td>\n",
       "      <td>Medium sunset yellow</td>\n",
       "      <td>12.50</td>\n",
       "    </tr>\n",
       "    <tr>\n",
       "      <th>4</th>\n",
       "      <td>mbr</td>\n",
       "      <td>Medium berry red</td>\n",
       "      <td>11.00</td>\n",
       "    </tr>\n",
       "    <tr>\n",
       "      <th>5</th>\n",
       "      <td>mgp</td>\n",
       "      <td>Medium glitter purple</td>\n",
       "      <td>52.95</td>\n",
       "    </tr>\n",
       "    <tr>\n",
       "      <th>6</th>\n",
       "      <td>loae</td>\n",
       "      <td>Large oak wood effect</td>\n",
       "      <td>65.00</td>\n",
       "    </tr>\n",
       "    <tr>\n",
       "      <th>7</th>\n",
       "      <td>lbg</td>\n",
       "      <td>Large black granite</td>\n",
       "      <td>58.98</td>\n",
       "    </tr>\n",
       "    <tr>\n",
       "      <th>8</th>\n",
       "      <td>lbe</td>\n",
       "      <td>Large bamboo effect</td>\n",
       "      <td>85.00</td>\n",
       "    </tr>\n",
       "    <tr>\n",
       "      <th>9</th>\n",
       "      <td>xlwm</td>\n",
       "      <td>Extra-large white marble</td>\n",
       "      <td>62.75</td>\n",
       "    </tr>\n",
       "  </tbody>\n",
       "</table>\n",
       "</div>"
      ],
      "text/plain": [
       "  Tile ID          Tile description  Price per box (£)\n",
       "0     sbg       Small black granite              19.50\n",
       "1     smg         Small grey marble              25.95\n",
       "2     spb         Small powder blue              35.75\n",
       "3     msy      Medium sunset yellow              12.50\n",
       "4     mbr          Medium berry red              11.00\n",
       "5     mgp     Medium glitter purple              52.95\n",
       "6    loae     Large oak wood effect              65.00\n",
       "7     lbg       Large black granite              58.98\n",
       "8     lbe       Large bamboo effect              85.00\n",
       "9    xlwm  Extra-large white marble              62.75"
      ]
     },
     "execution_count": 13,
     "metadata": {},
     "output_type": "execute_result"
    }
   ],
   "source": [
    "display_list()"
   ]
  },
  {
   "cell_type": "markdown",
   "metadata": {},
   "source": [
    "## Entry Point \n",
    "Refer to the table above for the tile IDs."
   ]
  },
  {
   "cell_type": "code",
   "execution_count": 14,
   "metadata": {
    "ExecuteTime": {
     "end_time": "2020-05-04T21:38:21.624810Z",
     "start_time": "2020-05-04T21:37:19.517012Z"
    }
   },
   "outputs": [
    {
     "name": "stdout",
     "output_type": "stream",
     "text": [
      "Please enter your wall height in metres: 334\n",
      "Please enter your wall width in metres: 5000\n",
      "Please enter your desired tile ID: xlwm\n",
      "Your total area is 1670000.0 sq metres, requiring 1670000 boxes, at a total cost of £104792500.0\n",
      "Would you like to calculate waste? (y or n) n\n",
      "Thank you, your order has been processed\n"
     ]
    }
   ],
   "source": [
    "user_input()"
   ]
  },
  {
   "cell_type": "code",
   "execution_count": null,
   "metadata": {},
   "outputs": [],
   "source": []
  }
 ],
 "metadata": {
  "kernelspec": {
   "display_name": "Python 3",
   "language": "python",
   "name": "python3"
  },
  "language_info": {
   "codemirror_mode": {
    "name": "ipython",
    "version": 3
   },
   "file_extension": ".py",
   "mimetype": "text/x-python",
   "name": "python",
   "nbconvert_exporter": "python",
   "pygments_lexer": "ipython3",
   "version": "3.8.2"
  },
  "varInspector": {
   "cols": {
    "lenName": 16,
    "lenType": 16,
    "lenVar": 40
   },
   "kernels_config": {
    "python": {
     "delete_cmd_postfix": "",
     "delete_cmd_prefix": "del ",
     "library": "var_list.py",
     "varRefreshCmd": "print(var_dic_list())"
    },
    "r": {
     "delete_cmd_postfix": ") ",
     "delete_cmd_prefix": "rm(",
     "library": "var_list.r",
     "varRefreshCmd": "cat(var_dic_list()) "
    }
   },
   "types_to_exclude": [
    "module",
    "function",
    "builtin_function_or_method",
    "instance",
    "_Feature"
   ],
   "window_display": false
  }
 },
 "nbformat": 4,
 "nbformat_minor": 4
}
